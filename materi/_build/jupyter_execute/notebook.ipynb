{
 "cells": [
  {
   "cell_type": "markdown",
   "metadata": {},
   "source": [
    "# Solusi Persamaan Linear\n",
    "\n",
    "Solusi persamaan linear adalah nilai dari variabel yang memenuhi persamaan tersebut. Cara menyelesaikan persamaan linear tergantung pada jumlah variabelnya. Solusinya bisa tunggal, banyak, atau tidak ada"
   ]
  },
  {
   "cell_type": "markdown",
   "metadata": {},
   "source": [
    "## Satu Solusi\n",
    "* Terjadi jika dua atau lebih persamaan dalam sistem memiliki satu titik potong.\n",
    "* Dalam sistem persamaan linear dua variabel (SPLDV), ini berarti dua garis memiliki gradien berbeda dan berpotongan di satu titik.\n",
    "* Dalam sistem persamaan linear tiga variabel (SPLTV), ini berarti tiga bidang berpotongan di satu titik.\n",
    "\n",
    "contoh:\n",
    "\n",
    "5x+2y=15\n",
    "\n",
    "x+4y=20\n",
    "\n",
    "<iframe src=\"https://www.geogebra.org/calculator/pkgpygkq?embed\" width=\"800\" height=\"600\" allowfullscreen style=\"border: 1px solid #e4e4e4;border-radius: 4px;\" frameborder=\"0\"></iframe>"
   ]
  },
  {
   "cell_type": "markdown",
   "metadata": {},
   "source": [
    "## Banyak Solusi\n",
    "* Terjadi jika dua persamaan dalam sistem sama atau identik, yang berarti mereka memiliki gradien dan titik potong yang sama.\n",
    "* Dalam SPLDV, ini berarti kedua garis berimpit (sama persis).\n",
    "* Dalam SPLTV, ini berarti tiga bidang berimpit atau membentuk satu garis perpotongan tak terbatas.\n",
    "\n",
    "contoh:\n",
    "\n",
    "5x+2y=10\n",
    "\n",
    "10x+4y=20\n",
    "\n",
    "<iframe src=\"https://www.geogebra.org/calculator/hyxu9bmz?embed\" width=\"800\" height=\"600\" allowfullscreen style=\"border: 1px solid #e4e4e4;border-radius: 4px;\" frameborder=\"0\"></iframe>"
   ]
  },
  {
   "cell_type": "markdown",
   "metadata": {},
   "source": [
    "## Tidak Ada Solusi\n",
    "\n",
    "* Terjadi jika dua atau lebih persamaan dalam sistem tidak memiliki titik potong.\n",
    "* Dalam SPLDV, ini berarti dua garis sejajar (gradien sama tetapi titik potong berbeda).\n",
    "* Dalam SPLTV, ini berarti tiga bidang tidak memiliki titik perpotongan bersama.\n",
    "\n",
    "contoh:\n",
    "\n",
    "5x+2y=15\n",
    "\n",
    "10x+4y=20\n",
    "\n",
    "<iframe src=\"https://www.geogebra.org/calculator/tjdjpyee?embed\" width=\"800\" height=\"600\" allowfullscreen style=\"border: 1px solid #e4e4e4;border-radius: 4px;\" frameborder=\"0\"></iframe>"
   ]
  }
 ],
 "metadata": {
  "kernelspec": {
   "display_name": "Python 3",
   "language": "python",
   "name": "python3"
  },
  "language_info": {
   "codemirror_mode": {
    "name": "ipython",
    "version": 3
   },
   "file_extension": ".py",
   "mimetype": "text/x-python",
   "name": "python",
   "nbconvert_exporter": "python",
   "pygments_lexer": "ipython3",
   "version": "3.12.1"
  },
  "widgets": {
   "application/vnd.jupyter.widget-state+json": {
    "state": {},
    "version_major": 2,
    "version_minor": 0
   }
  }
 },
 "nbformat": 4,
 "nbformat_minor": 4
}